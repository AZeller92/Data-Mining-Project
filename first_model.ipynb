{
 "cells": [
  {
   "cell_type": "code",
   "execution_count": 1,
   "metadata": {},
   "outputs": [],
   "source": [
    "%matplotlib inline\n",
    "import os\n",
    "import numpy as np\n",
    "import tensorflow as tf\n",
    "\n",
    "from skimage.restoration import denoise_tv_chambolle,denoise_bilateral\n",
    "from skimage.restoration import  denoise_tv_bregman# some coul not be imported\n",
    "from skimage import  filter\n",
    "from skimage import color"
   ]
  },
  {
   "cell_type": "code",
   "execution_count": 2,
   "metadata": {},
   "outputs": [],
   "source": [
    "import pandas as pd\n",
    "import matplotlib.pyplot as plt\n",
    "from sklearn.preprocessing import MinMaxScaler"
   ]
  },
  {
   "cell_type": "code",
   "execution_count": 3,
   "metadata": {},
   "outputs": [
    {
     "name": "stderr",
     "output_type": "stream",
     "text": [
      "Using TensorFlow backend.\n"
     ]
    }
   ],
   "source": [
    "\n",
    "\n",
    "#Import Keras.\n",
    "from keras.models import model_from_json\n",
    "from matplotlib import pyplot\n",
    "from keras.preprocessing.image import ImageDataGenerator\n",
    "from keras.models import Sequential\n",
    "from keras.layers import Conv2D, MaxPooling2D, Dense, Dropout, Input, Flatten, Activation\n",
    "from keras.layers import GlobalMaxPooling2D\n",
    "from keras.layers.normalization import BatchNormalization\n",
    "from keras.layers.merge import Concatenate\n",
    "from keras.models import Model\n",
    "from keras import initializers\n",
    "from keras.optimizers import Adam\n",
    "from keras.callbacks import ModelCheckpoint, Callback, EarlyStopping\n",
    "\n",
    "\n",
    "from sklearn.cross_validation import train_test_split"
   ]
  },
  {
   "cell_type": "code",
   "execution_count": 4,
   "metadata": {},
   "outputs": [],
   "source": [
    "def eval(a):\n",
    "    return -a*np.log(a)- (1-a)*np.log(1-a)"
   ]
  },
  {
   "cell_type": "code",
   "execution_count": 5,
   "metadata": {},
   "outputs": [],
   "source": [
    "def getModel():\n",
    "    #Building the model\n",
    "    gmodel=Sequential()\n",
    "    #Conv Layer 1\n",
    "    gmodel.add(Conv2D(16, kernel_size=(3, 3),activation='relu', input_shape=(75, 75, 3)))\n",
    "    gmodel.add(MaxPooling2D(pool_size=(3, 3), strides=(2, 2)))\n",
    "    gmodel.add(Dropout(0.2))\n",
    "\n",
    "    #Conv Layer 2\n",
    "    gmodel.add(Conv2D(32, kernel_size=(3, 3), activation='relu' ))\n",
    "    gmodel.add(MaxPooling2D(pool_size=(2, 2), strides=(2, 2)))\n",
    "    gmodel.add(Dropout(0.2))\n",
    "\n",
    "    #Conv Layer 3\n",
    "    gmodel.add(Conv2D(32, kernel_size=(3, 3), activation='relu'))\n",
    "    gmodel.add(MaxPooling2D(pool_size=(2, 2), strides=(2, 2)))\n",
    "    gmodel.add(Dropout(0.2))\n",
    "\n",
    "    #Conv Layer 4\n",
    "    gmodel.add(Conv2D(16, kernel_size=(3, 3), activation='relu'))\n",
    "    gmodel.add(MaxPooling2D(pool_size=(2, 2), strides=(2, 2)))\n",
    "    gmodel.add(Dropout(0.2))\n",
    "\n",
    "    #Flatten the data for upcoming dense layers\n",
    "    gmodel.add(Flatten())\n",
    "\n",
    "    #Dense Layers\n",
    "    gmodel.add(Dense(512))\n",
    "    gmodel.add(Activation('relu'))\n",
    "    gmodel.add(Dropout(0.2))\n",
    "\n",
    "    #Dense Layer 2\n",
    "    gmodel.add(Dense(256))\n",
    "    gmodel.add(Activation('relu'))\n",
    "    gmodel.add(Dropout(0.2))\n",
    "\n",
    "    #Sigmoid Layer\n",
    "    gmodel.add(Dense(1))\n",
    "    gmodel.add(Activation('sigmoid'))\n",
    "\n",
    "    mypotim=Adam(lr=0.001, beta_1=0.9, beta_2=0.999, epsilon=1e-08, decay=0.0)\n",
    "    gmodel.compile(loss='binary_crossentropy',\n",
    "                  optimizer=mypotim,\n",
    "                  metrics=['accuracy'])\n",
    "    gmodel.summary()\n",
    "    return gmodel\n",
    "\n"
   ]
  },
  {
   "cell_type": "code",
   "execution_count": 6,
   "metadata": {},
   "outputs": [],
   "source": [
    "def getModel2():\n",
    "    #Building the model\n",
    "    gmodel=Sequential()\n",
    "    #Conv Layer 1\n",
    "    gmodel.add(Conv2D(64, kernel_size=(3, 3),activation='relu', input_shape=(75, 75, 3)))\n",
    "    gmodel.add(MaxPooling2D(pool_size=(3, 3), strides=(2, 2)))\n",
    "    gmodel.add(Dropout(0.2))\n",
    "\n",
    "    #Conv Layer 2\n",
    "    gmodel.add(Conv2D(128, kernel_size=(3, 3), activation='relu' ))\n",
    "    gmodel.add(MaxPooling2D(pool_size=(2, 2), strides=(2, 2)))\n",
    "    gmodel.add(Dropout(0.2))\n",
    "\n",
    "    #Conv Layer 3\n",
    "    gmodel.add(Conv2D(128, kernel_size=(3, 3), activation='relu'))\n",
    "    gmodel.add(MaxPooling2D(pool_size=(2, 2), strides=(2, 2)))\n",
    "    gmodel.add(Dropout(0.2))\n",
    "\n",
    "    #Conv Layer 4\n",
    "    gmodel.add(Conv2D(64, kernel_size=(3, 3), activation='relu'))\n",
    "    gmodel.add(MaxPooling2D(pool_size=(2, 2), strides=(2, 2)))\n",
    "    gmodel.add(Dropout(0.2))\n",
    "\n",
    "    #Flatten the data for upcoming dense layers\n",
    "    gmodel.add(Flatten())\n",
    "\n",
    "    #Dense Layers\n",
    "    gmodel.add(Dense(512))\n",
    "    gmodel.add(Activation('relu'))\n",
    "    gmodel.add(Dropout(0.2))\n",
    "\n",
    "    #Dense Layer 2\n",
    "    gmodel.add(Dense(256))\n",
    "    gmodel.add(Activation('relu'))\n",
    "    gmodel.add(Dropout(0.2))\n",
    "\n",
    "    #Sigmoid Layer\n",
    "    gmodel.add(Dense(1))\n",
    "    gmodel.add(Activation('sigmoid'))\n",
    "\n",
    "    mypotim=Adam(lr=0.001, beta_1=0.9, beta_2=0.999, epsilon=1e-08, decay=0.0)\n",
    "    gmodel.compile(loss='binary_crossentropy',\n",
    "                  optimizer=mypotim,\n",
    "                  metrics=['accuracy'])\n",
    "    gmodel.summary()\n",
    "    return gmodel"
   ]
  },
  {
   "cell_type": "code",
   "execution_count": 19,
   "metadata": {},
   "outputs": [],
   "source": [
    "def get_callbacks(filepath, patience=2):\n",
    "    es = EarlyStopping('val_loss', patience=patience, mode=\"min\")\n",
    "    msave = ModelCheckpoint(filepath, save_best_only=True)\n",
    "    return [es, msave]# maybe deactivate checkpoint to be faster, maybe change early stopping\n",
    "file_path = \".model_weights.hdf5\"\n",
    "callbacks = get_callbacks(filepath=file_path, patience=5)"
   ]
  },
  {
   "cell_type": "code",
   "execution_count": 8,
   "metadata": {},
   "outputs": [],
   "source": [
    "#load data\n",
    "train = pd.read_json(\"train.json\")\n",
    "test = pd.read_json(\"train.json\")\n",
    "X1=np.array([np.array(band).astype(np.float32).reshape(75, 75) for band in train[\"band_1\"]])\n",
    "X2=np.array([np.array(band).astype(np.float32).reshape(75, 75) for band in train[\"band_2\"]])\n",
    "X_t= np.concatenate([X1[:, :, :, np.newaxis], X2[:, :, :, np.newaxis],((X1+X2)/2)[:, :, :, np.newaxis]], axis=-1)"
   ]
  },
  {
   "cell_type": "code",
   "execution_count": 9,
   "metadata": {},
   "outputs": [],
   "source": [
    "target_train=train['is_iceberg']\n",
    "X_train_cv, X_valid, y_train_cv, y_valid = train_test_split(X_t, target_train, random_state=1, train_size=0.75)"
   ]
  },
  {
   "cell_type": "code",
   "execution_count": 18,
   "metadata": {},
   "outputs": [
    {
     "name": "stdout",
     "output_type": "stream",
     "text": [
      "_________________________________________________________________\n",
      "Layer (type)                 Output Shape              Param #   \n",
      "=================================================================\n",
      "conv2d_17 (Conv2D)           (None, 73, 73, 16)        448       \n",
      "_________________________________________________________________\n",
      "max_pooling2d_17 (MaxPooling (None, 36, 36, 16)        0         \n",
      "_________________________________________________________________\n",
      "dropout_25 (Dropout)         (None, 36, 36, 16)        0         \n",
      "_________________________________________________________________\n",
      "conv2d_18 (Conv2D)           (None, 34, 34, 32)        4640      \n",
      "_________________________________________________________________\n",
      "max_pooling2d_18 (MaxPooling (None, 17, 17, 32)        0         \n",
      "_________________________________________________________________\n",
      "dropout_26 (Dropout)         (None, 17, 17, 32)        0         \n",
      "_________________________________________________________________\n",
      "conv2d_19 (Conv2D)           (None, 15, 15, 32)        9248      \n",
      "_________________________________________________________________\n",
      "max_pooling2d_19 (MaxPooling (None, 7, 7, 32)          0         \n",
      "_________________________________________________________________\n",
      "dropout_27 (Dropout)         (None, 7, 7, 32)          0         \n",
      "_________________________________________________________________\n",
      "conv2d_20 (Conv2D)           (None, 5, 5, 16)          4624      \n",
      "_________________________________________________________________\n",
      "max_pooling2d_20 (MaxPooling (None, 2, 2, 16)          0         \n",
      "_________________________________________________________________\n",
      "dropout_28 (Dropout)         (None, 2, 2, 16)          0         \n",
      "_________________________________________________________________\n",
      "flatten_5 (Flatten)          (None, 64)                0         \n",
      "_________________________________________________________________\n",
      "dense_13 (Dense)             (None, 512)               33280     \n",
      "_________________________________________________________________\n",
      "activation_13 (Activation)   (None, 512)               0         \n",
      "_________________________________________________________________\n",
      "dropout_29 (Dropout)         (None, 512)               0         \n",
      "_________________________________________________________________\n",
      "dense_14 (Dense)             (None, 256)               131328    \n",
      "_________________________________________________________________\n",
      "activation_14 (Activation)   (None, 256)               0         \n",
      "_________________________________________________________________\n",
      "dropout_30 (Dropout)         (None, 256)               0         \n",
      "_________________________________________________________________\n",
      "dense_15 (Dense)             (None, 1)                 257       \n",
      "_________________________________________________________________\n",
      "activation_15 (Activation)   (None, 1)                 0         \n",
      "=================================================================\n",
      "Total params: 183,825\n",
      "Trainable params: 183,825\n",
      "Non-trainable params: 0\n",
      "_________________________________________________________________\n",
      "Train on 1203 samples, validate on 401 samples\n",
      "Epoch 11/20\n",
      "1203/1203 [==============================] - 8s 7ms/step - loss: 0.7624 - acc: 0.5029 - val_loss: 0.6925 - val_acc: 0.5187\n",
      "Epoch 12/20\n",
      "1203/1203 [==============================] - 7s 6ms/step - loss: 0.6730 - acc: 0.5503 - val_loss: 0.6109 - val_acc: 0.5312\n",
      "Epoch 13/20\n",
      "1203/1203 [==============================] - 7s 6ms/step - loss: 0.5943 - acc: 0.5719 - val_loss: 0.5773 - val_acc: 0.6783\n",
      "Epoch 14/20\n",
      "1203/1203 [==============================] - 7s 6ms/step - loss: 0.5602 - acc: 0.6758 - val_loss: 0.5692 - val_acc: 0.6933\n",
      "Epoch 15/20\n",
      "1203/1203 [==============================] - 7s 6ms/step - loss: 0.5433 - acc: 0.6874 - val_loss: 0.5477 - val_acc: 0.6858\n",
      "Epoch 16/20\n",
      "1203/1203 [==============================] - 7s 6ms/step - loss: 0.5198 - acc: 0.7157 - val_loss: 0.5052 - val_acc: 0.7581\n",
      "Epoch 17/20\n",
      "1203/1203 [==============================] - 7s 6ms/step - loss: 0.5011 - acc: 0.7390 - val_loss: 0.4736 - val_acc: 0.7656\n",
      "Epoch 18/20\n",
      "1203/1203 [==============================] - 7s 6ms/step - loss: 0.4638 - acc: 0.7664 - val_loss: 0.4497 - val_acc: 0.8055\n",
      "Epoch 19/20\n",
      "1203/1203 [==============================] - 7s 6ms/step - loss: 0.4374 - acc: 0.7872 - val_loss: 0.4438 - val_acc: 0.7955\n",
      "Epoch 20/20\n",
      "1203/1203 [==============================] - 7s 6ms/step - loss: 0.4557 - acc: 0.7822 - val_loss: 0.4713 - val_acc: 0.7606\n"
     ]
    },
    {
     "data": {
      "text/plain": [
       "<keras.callbacks.History at 0x7f20aad0a550>"
      ]
     },
     "execution_count": 18,
     "metadata": {},
     "output_type": "execute_result"
    }
   ],
   "source": [
    "gmodel=getModel()\n",
    "gmodel.fit(X_train_cv, y_train_cv,\n",
    "          batch_size=50,\n",
    "          epochs=20,\n",
    "          verbose=1,\n",
    "          validation_data=(X_valid, y_valid),\n",
    "          callbacks=callbacks,initial_epoch=10)"
   ]
  },
  {
   "cell_type": "code",
   "execution_count": 70,
   "metadata": {},
   "outputs": [
    {
     "name": "stdout",
     "output_type": "stream",
     "text": [
      "_________________________________________________________________\n",
      "Layer (type)                 Output Shape              Param #   \n",
      "=================================================================\n",
      "conv2d_1 (Conv2D)            (None, 73, 73, 64)        1792      \n",
      "_________________________________________________________________\n",
      "max_pooling2d_1 (MaxPooling2 (None, 36, 36, 64)        0         \n",
      "_________________________________________________________________\n",
      "dropout_1 (Dropout)          (None, 36, 36, 64)        0         \n",
      "_________________________________________________________________\n",
      "conv2d_2 (Conv2D)            (None, 34, 34, 128)       73856     \n",
      "_________________________________________________________________\n",
      "max_pooling2d_2 (MaxPooling2 (None, 17, 17, 128)       0         \n",
      "_________________________________________________________________\n",
      "dropout_2 (Dropout)          (None, 17, 17, 128)       0         \n",
      "_________________________________________________________________\n",
      "conv2d_3 (Conv2D)            (None, 15, 15, 128)       147584    \n",
      "_________________________________________________________________\n",
      "max_pooling2d_3 (MaxPooling2 (None, 7, 7, 128)         0         \n",
      "_________________________________________________________________\n",
      "dropout_3 (Dropout)          (None, 7, 7, 128)         0         \n",
      "_________________________________________________________________\n",
      "conv2d_4 (Conv2D)            (None, 5, 5, 64)          73792     \n",
      "_________________________________________________________________\n",
      "max_pooling2d_4 (MaxPooling2 (None, 2, 2, 64)          0         \n",
      "_________________________________________________________________\n",
      "dropout_4 (Dropout)          (None, 2, 2, 64)          0         \n",
      "_________________________________________________________________\n",
      "flatten_1 (Flatten)          (None, 256)               0         \n",
      "_________________________________________________________________\n",
      "dense_1 (Dense)              (None, 512)               131584    \n",
      "_________________________________________________________________\n",
      "activation_1 (Activation)    (None, 512)               0         \n",
      "_________________________________________________________________\n",
      "dropout_5 (Dropout)          (None, 512)               0         \n",
      "_________________________________________________________________\n",
      "dense_2 (Dense)              (None, 256)               131328    \n",
      "_________________________________________________________________\n",
      "activation_2 (Activation)    (None, 256)               0         \n",
      "_________________________________________________________________\n",
      "dropout_6 (Dropout)          (None, 256)               0         \n",
      "_________________________________________________________________\n",
      "dense_3 (Dense)              (None, 1)                 257       \n",
      "_________________________________________________________________\n",
      "activation_3 (Activation)    (None, 1)                 0         \n",
      "=================================================================\n",
      "Total params: 560,193\n",
      "Trainable params: 560,193\n",
      "Non-trainable params: 0\n",
      "_________________________________________________________________\n",
      "Train on 1203 samples, validate on 401 samples\n",
      "Epoch 1/30\n",
      "1203/1203 [==============================] - 51s 42ms/step - loss: 1.6358 - acc: 0.5046 - val_loss: 0.6821 - val_acc: 0.5287\n",
      "Epoch 2/30\n",
      "1203/1203 [==============================] - 45s 38ms/step - loss: 0.5961 - acc: 0.6135 - val_loss: 0.6511 - val_acc: 0.6783\n",
      "Epoch 3/30\n",
      "1203/1203 [==============================] - 45s 37ms/step - loss: 0.5569 - acc: 0.6800 - val_loss: 0.5407 - val_acc: 0.7506\n",
      "Epoch 4/30\n",
      "1203/1203 [==============================] - 46s 38ms/step - loss: 0.5026 - acc: 0.7249 - val_loss: 0.4894 - val_acc: 0.7955\n",
      "Epoch 5/30\n",
      "1203/1203 [==============================] - 53s 44ms/step - loss: 0.4653 - acc: 0.7789 - val_loss: 0.4361 - val_acc: 0.8005\n",
      "Epoch 6/30\n",
      "1203/1203 [==============================] - 56s 46ms/step - loss: 0.4267 - acc: 0.7997 - val_loss: 0.4459 - val_acc: 0.7980\n",
      "Epoch 7/30\n",
      "1203/1203 [==============================] - 52s 44ms/step - loss: 0.4169 - acc: 0.7988 - val_loss: 0.3967 - val_acc: 0.8279\n",
      "Epoch 8/30\n",
      "1203/1203 [==============================] - 49s 41ms/step - loss: 0.3715 - acc: 0.8321 - val_loss: 0.3709 - val_acc: 0.8329\n",
      "Epoch 9/30\n",
      "1203/1203 [==============================] - 54s 45ms/step - loss: 0.3699 - acc: 0.8204 - val_loss: 0.3864 - val_acc: 0.7830\n",
      "Epoch 10/30\n",
      "1203/1203 [==============================] - 53s 44ms/step - loss: 0.3832 - acc: 0.8005 - val_loss: 0.3509 - val_acc: 0.8479\n",
      "Epoch 11/30\n",
      "1203/1203 [==============================] - 54s 45ms/step - loss: 0.3612 - acc: 0.8354 - val_loss: 0.3537 - val_acc: 0.8404\n",
      "Epoch 12/30\n",
      "1203/1203 [==============================] - 52s 43ms/step - loss: 0.3148 - acc: 0.8529 - val_loss: 0.3108 - val_acc: 0.8603\n",
      "Epoch 13/30\n",
      "1203/1203 [==============================] - 49s 41ms/step - loss: 0.3544 - acc: 0.8329 - val_loss: 0.3981 - val_acc: 0.8678\n",
      "Epoch 14/30\n",
      "1203/1203 [==============================] - 57s 48ms/step - loss: 0.3271 - acc: 0.8595 - val_loss: 0.3348 - val_acc: 0.8653\n",
      "Epoch 15/30\n",
      "1203/1203 [==============================] - 53s 44ms/step - loss: 0.3138 - acc: 0.8545 - val_loss: 0.3484 - val_acc: 0.8005\n",
      "Epoch 16/30\n",
      "1203/1203 [==============================] - 48s 40ms/step - loss: 0.3255 - acc: 0.8504 - val_loss: 0.3621 - val_acc: 0.8379\n",
      "Epoch 17/30\n",
      "1203/1203 [==============================] - 47s 39ms/step - loss: 0.3001 - acc: 0.8537 - val_loss: 0.3466 - val_acc: 0.8504\n"
     ]
    },
    {
     "data": {
      "text/plain": [
       "<keras.callbacks.History at 0x7fcc0bba0ad0>"
      ]
     },
     "execution_count": 70,
     "metadata": {},
     "output_type": "execute_result"
    }
   ],
   "source": [
    "gmodel=getModel2()\n",
    "gmodel.fit(X_train_cv, y_train_cv,\n",
    "          batch_size=36,\n",
    "          epochs=30,\n",
    "          verbose=1,\n",
    "          validation_data=(X_valid, y_valid),\n",
    "          callbacks=callbacks)"
   ]
  },
  {
   "cell_type": "code",
   "execution_count": 69,
   "metadata": {},
   "outputs": [
    {
     "name": "stdout",
     "output_type": "stream",
     "text": [
      "401/401 [==============================] - 4s 10ms/step\n",
      "('Test loss:', 0.31948496902970008)\n",
      "('Test accuracy:', 0.87780548702748928)\n"
     ]
    }
   ],
   "source": [
    "score = loaded_model.evaluate(X_valid, y_valid, verbose=1)\n",
    "print('Test loss:', score[0])\n",
    "print('Test accuracy:', score[1])"
   ]
  },
  {
   "cell_type": "markdown",
   "metadata": {},
   "source": [
    "## reduced model\n",
    "30 epochs:  train acc=87.5, test= 0.84\n",
    "45 epochs   train acc=86.5, test= 0.85.5"
   ]
  },
  {
   "cell_type": "markdown",
   "metadata": {},
   "source": [
    "## full model check wheter dropouts are automatically removed\n",
    "36 epochs train: 89.7% loss 0,22  test: 88.7 % loss=0.26\n",
    "\n",
    "49 epochs train: 92% loss 0,29  test: 88 % loss=0.29\n",
    "\n",
    "59 epochs train: 90.5% loss 0,29  test: 89.5 % loss=0.27\n",
    "70 epochs: hard overfit"
   ]
  },
  {
   "cell_type": "code",
   "execution_count": 24,
   "metadata": {},
   "outputs": [
    {
     "data": {
      "text/plain": [
       "0.34651533691866615"
      ]
     },
     "execution_count": 24,
     "metadata": {},
     "output_type": "execute_result"
    }
   ],
   "source": [
    "eval(0.89)# 0.43 on LB , need at least 0.95"
   ]
  },
  {
   "cell_type": "code",
   "execution_count": 22,
   "metadata": {},
   "outputs": [],
   "source": [
    "model_json = gmodel.to_json()### save the model\n",
    "with open(\"model.json_full_20\", \"w\") as json_file:\n",
    "    json_file.write(model_json)\n",
    "# serialize weights to HDF5\n",
    "gmodel.save_weights(\"model_full.h5\")"
   ]
  },
  {
   "cell_type": "code",
   "execution_count": 64,
   "metadata": {},
   "outputs": [],
   "source": [
    "# load json and create model\n",
    "json_file = open('model.json_full_36', 'r')\n",
    "loaded_model_json = json_file.read()\n",
    "json_file.close()\n",
    "loaded_model = model_from_json(loaded_model_json)\n",
    "# load weights into new model\n",
    "loaded_model.load_weights(\"model_full_36.h5\")\n"
   ]
  },
  {
   "cell_type": "code",
   "execution_count": 65,
   "metadata": {},
   "outputs": [],
   "source": [
    "loaded_model.load_weights(\"model_full_36.h5\")"
   ]
  },
  {
   "cell_type": "code",
   "execution_count": 66,
   "metadata": {},
   "outputs": [],
   "source": [
    "mypotim=Adam(lr=0.001, beta_1=0.9, beta_2=0.999, epsilon=1e-08, decay=0.0)\n",
    "loaded_model.compile(loss='binary_crossentropy',\n",
    "                  optimizer=mypotim,\n",
    "                  metrics=['accuracy'])\n"
   ]
  },
  {
   "cell_type": "code",
   "execution_count": 68,
   "metadata": {},
   "outputs": [
    {
     "name": "stdout",
     "output_type": "stream",
     "text": [
      "Train on 1203 samples, validate on 401 samples\n",
      "Epoch 37/50\n",
      "1203/1203 [==============================] - 44s 37ms/step - loss: 0.2374 - acc: 0.9002 - val_loss: 0.2754 - val_acc: 0.9102\n",
      "Epoch 38/50\n",
      "1203/1203 [==============================] - 44s 36ms/step - loss: 0.2293 - acc: 0.9044 - val_loss: 0.3352 - val_acc: 0.8803\n",
      "Epoch 39/50\n",
      "1203/1203 [==============================] - 44s 37ms/step - loss: 0.2411 - acc: 0.8811 - val_loss: 0.3384 - val_acc: 0.8304\n",
      "Epoch 40/50\n",
      "1203/1203 [==============================] - 44s 36ms/step - loss: 0.2374 - acc: 0.8919 - val_loss: 0.2995 - val_acc: 0.8753\n",
      "Epoch 41/50\n",
      "1203/1203 [==============================] - 44s 36ms/step - loss: 0.2403 - acc: 0.8886 - val_loss: 0.3175 - val_acc: 0.8778\n",
      "Epoch 42/50\n",
      "1203/1203 [==============================] - 44s 36ms/step - loss: 0.1998 - acc: 0.9061 - val_loss: 0.3195 - val_acc: 0.8778\n"
     ]
    }
   ],
   "source": [
    "hist2=loaded_model.fit(X_train_cv, y_train_cv,\n",
    "          batch_size=32,\n",
    "          epochs=50,\n",
    "          verbose=1,\n",
    "          validation_data=(X_valid, y_valid),\n",
    "          callbacks=callbacks,initial_epoch=36)# here we continue with model having already 88% acc."
   ]
  },
  {
   "cell_type": "code",
   "execution_count": 50,
   "metadata": {},
   "outputs": [],
   "source": [
    "def get_callbacks(patience=3):\n",
    "    es = EarlyStopping('val_loss', patience=patience, mode=\"min\")\n",
    "    return [ es]# maybe deactivate checkpoint to be faster, maybe change early stopping\n",
    "callbacks = get_callbacks( patience=5)"
   ]
  },
  {
   "cell_type": "code",
   "execution_count": 57,
   "metadata": {},
   "outputs": [
    {
     "name": "stdout",
     "output_type": "stream",
     "text": [
      "['acc', 'loss', 'val_acc', 'val_loss']\n"
     ]
    },
    {
     "data": {
      "image/png": "[encoded data removed]",
      "text/plain": [
       "<matplotlib.figure.Figure at 0x7fcc1875d5d0>"
      ]
     },
     "metadata": {},
     "output_type": "display_data"
    }
   ],
   "source": [
    "# list all data in history\n",
    "print(hist.history.keys())\n",
    "# summarize history for accuracy\n",
    "plt.plot(hist.history['acc'])\n",
    "\n",
    "plt.title('model accuracy')\n",
    "plt.ylabel('accuracy')\n",
    "plt.xlabel('epoch')\n",
    "plt.legend(['train', 'test'], loc='upper left')\n",
    "plt.show()\n"
   ]
  },
  {
   "cell_type": "code",
   "execution_count": 31,
   "metadata": {},
   "outputs": [
    {
     "data": {
      "text/plain": [
       "[<matplotlib.lines.Line2D at 0x7fcc205ebed0>]"
      ]
     },
     "execution_count": 31,
     "metadata": {},
     "output_type": "execute_result"
    },
    {
     "data": {
      "image/png": "[encoded data removed]",
      "text/plain": [
       "<matplotlib.figure.Figure at 0x7fcc2c455ad0>"
      ]
     },
     "metadata": {},
     "output_type": "display_data"
    }
   ],
   "source": [
    "plt.plot(hist.history['val_acc'])"
   ]
  },
  {
   "cell_type": "code",
   "execution_count": 62,
   "metadata": {},
   "outputs": [
    {
     "data": {
      "image/png": "[encoded data removed]",
      "text/plain": [
       "<matplotlib.figure.Figure at 0x7fcc18520050>"
      ]
     },
     "metadata": {},
     "output_type": "display_data"
    }
   ],
   "source": [
    "# summarize history for loss\n",
    "plt.plot(hist.history['loss'],label='val_loss')\n",
    "plt.plot(hist.history['val_loss'],label='val_loss')\n",
    "plt.title('model loss')\n",
    "plt.ylabel('loss')\n",
    "plt.legend()\n",
    "plt.show()"
   ]
  },
  {
   "cell_type": "code",
   "execution_count": null,
   "metadata": {},
   "outputs": [],
   "source": []
  },
  {
   "cell_type": "code",
   "execution_count": 61,
   "metadata": {},
   "outputs": [],
   "source": [
    "model_json = loaded_model.to_json()### save the model\n",
    "with open(\"model.json_full_49\", \"w\") as json_file:\n",
    "    json_file.write(model_json)\n",
    "# serialize weights to HDF5\n",
    "loaded_model.save_weights(\"model_full_49.h5\")"
   ]
  }
 ],
 "metadata": {
  "kernelspec": {
   "display_name": "Python 2",
   "language": "python",
   "name": "python2"
  },
  "language_info": {
   "codemirror_mode": {
    "name": "ipython",
    "version": 2
   },
   "file_extension": ".py",
   "mimetype": "text/x-python",
   "name": "python",
   "nbconvert_exporter": "python",
   "pygments_lexer": "ipython2",
   "version": "2.7.12"
  }
 },
 "nbformat": 4,
 "nbformat_minor": 2
}
